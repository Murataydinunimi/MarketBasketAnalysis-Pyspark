{
 "cells": [
  {
   "cell_type": "markdown",
   "metadata": {
    "id": "vMLDo5RCjKjb"
   },
   "source": [
    "<a href=\"https://colab.research.google.com/github/Murataydinunimi/MarketBasketAnalysis-Pyspark/blob/main/MBA-PySpark-Aydin.\" target=\"_parent\"><img src=\"https://colab.research.google.com/assets/colab-badge.svg\" alt=\"Open In Colab\"/></a>"
   ]
  },
  {
   "cell_type": "markdown",
   "metadata": {},
   "source": [
    "Finding frequent itemsets (IMDB) <br>\n",
    "Murat AYDIN<br>\n",
    "DSE 2021/2022"
   ]
  },
  {
   "cell_type": "code",
   "execution_count": null,
   "metadata": {},
   "outputs": [],
   "source": [
    "# install Java8\n",
    "!apt-get install openjdk-8-jdk-headless -qq > /dev/null\n",
    "# download spark3.0.2\n",
    "!wget -q http://apache.osuosl.org/spark/spark-3.0.3/spark-3.0.3-bin-hadoop3.2.tgz\n",
    "\n",
    "# unzip it\n",
    "!tar xf spark-3.0.3-bin-hadoop3.2.tgz\n",
    "# install findspark \n",
    "!pip install -q findspark"
   ]
  },
  {
   "cell_type": "code",
   "execution_count": 8,
   "metadata": {
    "colab": {
     "base_uri": "https://localhost:8080/"
    },
    "id": "w_513L7bxcK2",
    "outputId": "98771beb-e742-4816-96ed-1f4b158389ca"
   },
   "outputs": [
    {
     "name": "stdout",
     "output_type": "stream",
     "text": [
      "Requirement already satisfied: kaggle in /usr/local/lib/python3.7/dist-packages (1.5.12)\n",
      "Requirement already satisfied: python-dateutil in /usr/local/lib/python3.7/dist-packages (from kaggle) (2.8.2)\n",
      "Requirement already satisfied: six>=1.10 in /usr/local/lib/python3.7/dist-packages (from kaggle) (1.15.0)\n",
      "Requirement already satisfied: python-slugify in /usr/local/lib/python3.7/dist-packages (from kaggle) (6.1.1)\n",
      "Requirement already satisfied: certifi in /usr/local/lib/python3.7/dist-packages (from kaggle) (2021.10.8)\n",
      "Requirement already satisfied: urllib3 in /usr/local/lib/python3.7/dist-packages (from kaggle) (1.24.3)\n",
      "Requirement already satisfied: tqdm in /usr/local/lib/python3.7/dist-packages (from kaggle) (4.63.0)\n",
      "Requirement already satisfied: requests in /usr/local/lib/python3.7/dist-packages (from kaggle) (2.23.0)\n",
      "Requirement already satisfied: text-unidecode>=1.3 in /usr/local/lib/python3.7/dist-packages (from python-slugify->kaggle) (1.3)\n",
      "Requirement already satisfied: idna<3,>=2.5 in /usr/local/lib/python3.7/dist-packages (from requests->kaggle) (2.10)\n",
      "Requirement already satisfied: chardet<4,>=3.0.2 in /usr/local/lib/python3.7/dist-packages (from requests->kaggle) (3.0.4)\n"
     ]
    }
   ],
   "source": [
    "!pip install kaggle"
   ]
  },
  {
   "cell_type": "code",
   "execution_count": 9,
   "metadata": {
    "id": "HjBC6Mq0xhmX"
   },
   "outputs": [],
   "source": [
    "# Kaggle API to download the dataset\n",
    "import os\n",
    "kaggle_api = {\"username\":\"murataydn\",\"key\":\"7c7468d4948d474d251b85a914a9cf8e\"}\n",
    "os.environ['KAGGLE_USERNAME'] = kaggle_api['username']\n",
    "os.environ['KAGGLE_KEY'] = kaggle_api['key'] "
   ]
  },
  {
   "cell_type": "code",
   "execution_count": 10,
   "metadata": {
    "colab": {
     "base_uri": "https://localhost:8080/"
    },
    "id": "7j6TU88AxuE_",
    "outputId": "f098c774-7b76-4dfc-e836-9bb066371d9a"
   },
   "outputs": [
    {
     "name": "stdout",
     "output_type": "stream",
     "text": [
      "Downloading ukraine-russian-crisis-twitter-dataset-1-2-m-rows.zip to /content\n",
      "100% 1.36G/1.37G [00:14<00:00, 110MB/s]\n",
      "100% 1.37G/1.37G [00:14<00:00, 104MB/s]\n"
     ]
    }
   ],
   "source": [
    "!kaggle datasets download -d bwandowando/ukraine-russian-crisis-twitter-dataset-1-2-m-rows"
   ]
  },
  {
   "cell_type": "code",
   "execution_count": 11,
   "metadata": {
    "colab": {
     "base_uri": "https://localhost:8080/"
    },
    "id": "Pig-H7V9xjPv",
    "outputId": "104ec0c3-8828-41dd-cef3-753b071fd357"
   },
   "outputs": [
    {
     "name": "stdout",
     "output_type": "stream",
     "text": [
      "Archive:  ukraine-russian-crisis-twitter-dataset-1-2-m-rows.zip\n",
      "  inflating: UkraineCombinedTweetsDeduped20220227-131611.csv.gzip  \n",
      "  inflating: UkraineCombinedTweetsDeduped_FEB27.csv.gzip  \n",
      "  inflating: UkraineCombinedTweetsDeduped_FEB28_part1.csv.gzip  \n",
      "  inflating: UkraineCombinedTweetsDeduped_FEB28_part2.csv.gzip  \n",
      "  inflating: UkraineCombinedTweetsDeduped_MAR01.csv.gzip  \n",
      "  inflating: UkraineCombinedTweetsDeduped_MAR02.csv.gzip  \n",
      "  inflating: UkraineCombinedTweetsDeduped_MAR03.csv.gzip  \n",
      "  inflating: UkraineCombinedTweetsDeduped_MAR04.csv.gzip  \n",
      "  inflating: UkraineCombinedTweetsDeduped_MAR05.csv.gzip  \n",
      "  inflating: UkraineCombinedTweetsDeduped_MAR06.csv.gzip  \n",
      "  inflating: UkraineCombinedTweetsDeduped_MAR07.csv.gzip  \n",
      "  inflating: UkraineCombinedTweetsDeduped_MAR08.csv.gzip  \n",
      "  inflating: UkraineCombinedTweetsDeduped_MAR09.csv.gzip  \n"
     ]
    }
   ],
   "source": [
    "!unzip ukraine-russian-crisis-twitter-dataset-1-2-m-rows"
   ]
  },
  {
   "cell_type": "code",
   "execution_count": 12,
   "metadata": {
    "id": "h3BEvUI8xkzH"
   },
   "outputs": [],
   "source": [
    "from mlxtend.frequent_patterns import apriori\n",
    "from mlxtend.frequent_patterns import association_rules\n",
    "import numpy as np\n",
    "import pandas as pd\n",
    "import csv\n",
    "import os\n"
   ]
  },
  {
   "cell_type": "code",
   "execution_count": 13,
   "metadata": {
    "colab": {
     "base_uri": "https://localhost:8080/"
    },
    "id": "xCaAZo8HHKgX",
    "outputId": "2068d5e0-158f-4de8-d6aa-38b80565f9ec"
   },
   "outputs": [
    {
     "name": "stdout",
     "output_type": "stream",
     "text": [
      "The data UkraineCombinedTweetsDeduped_FEB28_part1.csv.gzip has 237787 number of rows \n",
      "The data UkraineCombinedTweetsDeduped_MAR07.csv.gzip has 567745 number of rows \n",
      "The data UkraineCombinedTweetsDeduped_MAR05.csv.gzip has 546780 number of rows \n",
      "The data UkraineCombinedTweetsDeduped_MAR03.csv.gzip has 395772 number of rows \n",
      "The data UkraineCombinedTweetsDeduped_MAR09.csv.gzip has 493857 number of rows \n",
      "The data UkraineCombinedTweetsDeduped_MAR04.csv.gzip has 480290 number of rows \n",
      "The data UkraineCombinedTweetsDeduped_MAR06.csv.gzip has 566767 number of rows \n",
      "The data UkraineCombinedTweetsDeduped20220227-131611.csv.gzip has 1229349 number of rows \n",
      "The data UkraineCombinedTweetsDeduped_MAR02.csv.gzip has 417031 number of rows \n",
      "The data UkraineCombinedTweetsDeduped_FEB28_part2.csv.gzip has 140384 number of rows \n",
      "The data UkraineCombinedTweetsDeduped_MAR08.csv.gzip has 519385 number of rows \n",
      "The data UkraineCombinedTweetsDeduped_FEB27.csv.gzip has 357018 number of rows \n",
      "The data UkraineCombinedTweetsDeduped_MAR01.csv.gzip has 409279 number of rows \n"
     ]
    }
   ],
   "source": [
    "data_collection = []\n",
    "\n",
    "columns = [\"userid\",\"text\",\"language\"]\n",
    "\n",
    "for data in os.listdir():\n",
    "\n",
    "  if \"Ukraine\" in data:\n",
    "\n",
    "    df = pd.read_csv(data, compression='gzip', index_col=0,encoding='utf-8', quoting=csv.QUOTE_ALL, low_memory=False)\n",
    "    df= df[columns]\n",
    "    data_collection.append(df)\n",
    "    print(f\"The data {data} has {len(df)} number of rows \")\n",
    "\n",
    "\n",
    "\n",
    "    \n",
    "    "
   ]
  },
  {
   "cell_type": "code",
   "execution_count": 14,
   "metadata": {
    "colab": {
     "base_uri": "https://localhost:8080/"
    },
    "id": "LfX6ehLYxlWI",
    "outputId": "bbc870b7-b2f4-4897-e725-ce8dade9a746"
   },
   "outputs": [
    {
     "data": {
      "text/plain": [
       "(6361444, 3)"
      ]
     },
     "execution_count": 14,
     "metadata": {},
     "output_type": "execute_result"
    }
   ],
   "source": [
    "df_combined = pd.concat(data_collection, axis=0)\n",
    "df_combined.shape"
   ]
  },
  {
   "cell_type": "code",
   "execution_count": 15,
   "metadata": {
    "colab": {
     "base_uri": "https://localhost:8080/"
    },
    "id": "vbNQ6AWrW-mZ",
    "outputId": "be794403-c329-4b5b-f307-e155d3876181"
   },
   "outputs": [
    {
     "data": {
      "text/plain": [
       "(1922431, 3)"
      ]
     },
     "execution_count": 15,
     "metadata": {},
     "output_type": "execute_result"
    }
   ],
   "source": [
    "df_combined.drop_duplicates(subset=['text'],keep='last',inplace=True)\n",
    "df_combined.shape\n"
   ]
  },
  {
   "cell_type": "code",
   "execution_count": 16,
   "metadata": {
    "colab": {
     "base_uri": "https://localhost:8080/"
    },
    "id": "ED9ggOiTX8nK",
    "outputId": "bff69cc0-951f-40aa-b2fb-0443256ec140"
   },
   "outputs": [
    {
     "data": {
      "text/plain": [
       "(1138499, 3)"
      ]
     },
     "execution_count": 16,
     "metadata": {},
     "output_type": "execute_result"
    }
   ],
   "source": [
    "df_combined =  df_combined[df_combined[\"language\"] == \"en\"]\n",
    "df_combined.shape"
   ]
  },
  {
   "cell_type": "code",
   "execution_count": 17,
   "metadata": {
    "id": "W6sFVjmIR7oc"
   },
   "outputs": [],
   "source": [
    "\n",
    "import numpy as np\n",
    "np.random.seed(1)\n",
    "random_ind = np.random.choice(range(len(df_combined)), 500000, replace=False)"
   ]
  },
  {
   "cell_type": "code",
   "execution_count": 18,
   "metadata": {
    "colab": {
     "base_uri": "https://localhost:8080/"
    },
    "id": "xiMbz6JHSFX-",
    "outputId": "85b445a1-8b1f-4fe4-c193-58651c10263c"
   },
   "outputs": [
    {
     "data": {
      "text/plain": [
       "(500000, 3)"
      ]
     },
     "execution_count": 18,
     "metadata": {},
     "output_type": "execute_result"
    }
   ],
   "source": [
    "df_combined = df_combined.iloc[random_ind]\n",
    "df_combined.shape"
   ]
  },
  {
   "cell_type": "code",
   "execution_count": 19,
   "metadata": {
    "colab": {
     "base_uri": "https://localhost:8080/"
    },
    "id": "YgQtEcfvYOUC",
    "outputId": "d69bc93d-f29b-4f76-8e41-8763e79d6a3d"
   },
   "outputs": [
    {
     "data": {
      "text/plain": [
       "Index(['userid', 'text', 'language'], dtype='object')"
      ]
     },
     "execution_count": 19,
     "metadata": {},
     "output_type": "execute_result"
    }
   ],
   "source": [
    "df.columns"
   ]
  },
  {
   "cell_type": "code",
   "execution_count": 20,
   "metadata": {
    "colab": {
     "base_uri": "https://localhost:8080/"
    },
    "id": "vTU2xce9ybGv",
    "outputId": "0127b5ce-953e-42bf-ea6a-da89be6e3797"
   },
   "outputs": [
    {
     "name": "stdout",
     "output_type": "stream",
     "text": [
      "Collecting pyspark\n",
      "  Downloading pyspark-3.2.1.tar.gz (281.4 MB)\n",
      "\u001b[K     |████████████████████████████████| 281.4 MB 28 kB/s \n",
      "\u001b[?25hCollecting py4j==0.10.9.3\n",
      "  Downloading py4j-0.10.9.3-py2.py3-none-any.whl (198 kB)\n",
      "\u001b[K     |████████████████████████████████| 198 kB 60.0 MB/s \n",
      "\u001b[?25hBuilding wheels for collected packages: pyspark\n",
      "  Building wheel for pyspark (setup.py) ... \u001b[?25l\u001b[?25hdone\n",
      "  Created wheel for pyspark: filename=pyspark-3.2.1-py2.py3-none-any.whl size=281853642 sha256=a8b174a45085987dd6e6512c8e77c623e98499afef2a9a7c7e4c33f56abf43a8\n",
      "  Stored in directory: /root/.cache/pip/wheels/9f/f5/07/7cd8017084dce4e93e84e92efd1e1d5334db05f2e83bcef74f\n",
      "Successfully built pyspark\n",
      "Installing collected packages: py4j, pyspark\n",
      "Successfully installed py4j-0.10.9.3 pyspark-3.2.1\n"
     ]
    }
   ],
   "source": [
    "!pip install pyspark\n"
   ]
  },
  {
   "cell_type": "code",
   "execution_count": 21,
   "metadata": {
    "id": "EK83zGlSyOzo"
   },
   "outputs": [],
   "source": [
    "\n",
    "from pyspark import SparkConf, SparkContext\n",
    "from pyspark.sql import SparkSession\n",
    "import seaborn as sns\n",
    "import matplotlib.pyplot as plt\n"
   ]
  },
  {
   "cell_type": "code",
   "execution_count": 22,
   "metadata": {
    "id": "I54oQxggzKja"
   },
   "outputs": [],
   "source": [
    "spark = SparkSession.builder.enableHiveSupport().getOrCreate()\n"
   ]
  },
  {
   "cell_type": "code",
   "execution_count": 23,
   "metadata": {
    "id": "3wPZ7jYAzMgz"
   },
   "outputs": [],
   "source": [
    "\n",
    "from pyspark.sql import SQLContext\n",
    "\n",
    "spark.conf.set(\"spark.sql.execution.arrow.pyspark.enabled\", \"true\")\n",
    "\n",
    "\n",
    "\n"
   ]
  },
  {
   "cell_type": "code",
   "execution_count": 24,
   "metadata": {
    "id": "loHnu4CJzPHB"
   },
   "outputs": [],
   "source": [
    "sc = spark.sparkContext\n"
   ]
  },
  {
   "cell_type": "code",
   "execution_count": 25,
   "metadata": {
    "colab": {
     "base_uri": "https://localhost:8080/"
    },
    "id": "cBfd5xJSzQkJ",
    "outputId": "250e1933-31b3-4229-9a71-3d4e5f4ef501"
   },
   "outputs": [
    {
     "name": "stdout",
     "output_type": "stream",
     "text": [
      "+-------------------+--------------------+--------+\n",
      "|             userid|                text|language|\n",
      "+-------------------+--------------------+--------+\n",
      "|1345185051554836488|Wife killed, husb...|      en|\n",
      "|1459115124829077513|@POTUS Stop killi...|      en|\n",
      "|1303047309341724675|Hey Fam.\\nGet you...|      en|\n",
      "| 919915692375330816|The Russian presi...|      en|\n",
      "|          227343379|I hope John Bolto...|      en|\n",
      "|1140306632049643520|This is the week ...|      en|\n",
      "|1445114935340638216|Leaving everythin...|      en|\n",
      "|         2600442982|My heart is still...|      en|\n",
      "|          778597423|In just the past ...|      en|\n",
      "|           65061050|@Valevolotim @For...|      en|\n",
      "+-------------------+--------------------+--------+\n",
      "only showing top 10 rows\n",
      "\n"
     ]
    }
   ],
   "source": [
    "spark_eng=spark.createDataFrame(df_combined) \n",
    "spark_eng.createOrReplaceTempView(\"spark_eng\")\n",
    "spark_eng.show(10)"
   ]
  },
  {
   "cell_type": "code",
   "execution_count": 26,
   "metadata": {
    "colab": {
     "base_uri": "https://localhost:8080/"
    },
    "id": "PInnYYVparlK",
    "outputId": "dd835311-4455-44ba-bd7e-73c54dd8426e"
   },
   "outputs": [
    {
     "data": {
      "text/plain": [
       "DataFrame[userid: bigint, text: string, language: string]"
      ]
     },
     "execution_count": 26,
     "metadata": {},
     "output_type": "execute_result"
    }
   ],
   "source": [
    "spark_eng.cache()"
   ]
  },
  {
   "cell_type": "code",
   "execution_count": 27,
   "metadata": {
    "colab": {
     "base_uri": "https://localhost:8080/"
    },
    "id": "WSuMO_bBzgAS",
    "outputId": "91ac1ee4-b5c2-4390-fa6e-a3c81560d7b3"
   },
   "outputs": [
    {
     "name": "stdout",
     "output_type": "stream",
     "text": [
      "+-------------------+--------------------+\n",
      "|             userid|                text|\n",
      "+-------------------+--------------------+\n",
      "|1345185051554836488|wife killed husba...|\n",
      "|1459115124829077513|potus stop killin...|\n",
      "|1303047309341724675|hey fam\\nget your...|\n",
      "| 919915692375330816|the russian presi...|\n",
      "|          227343379|i hope john bolto...|\n",
      "+-------------------+--------------------+\n",
      "only showing top 5 rows\n",
      "\n"
     ]
    }
   ],
   "source": [
    "from pyspark.sql.functions import regexp_replace, trim, col, lower\n",
    "\n",
    "def removePunctuation(column):\n",
    "   return lower(trim(regexp_replace(column,'\\\\p{Punct}',''))).alias('sentence')\n",
    "\n",
    "spark_eng = spark_eng.select(\"userid\",removePunctuation(col('text')).alias(\"text\"))\n",
    "spark_eng.show(5)"
   ]
  },
  {
   "cell_type": "code",
   "execution_count": 28,
   "metadata": {
    "colab": {
     "base_uri": "https://localhost:8080/"
    },
    "id": "2GaRrNjmzp-8",
    "outputId": "c40e3e3d-9b33-454d-dfe6-cdfc2d1c6720"
   },
   "outputs": [
    {
     "name": "stdout",
     "output_type": "stream",
     "text": [
      "+-------------------+--------------------+--------------------+\n",
      "|             userid|                text|         words_token|\n",
      "+-------------------+--------------------+--------------------+\n",
      "|1345185051554836488|wife killed husba...|[wife, killed, hu...|\n",
      "|1459115124829077513|potus stop killin...|[potus, stop, kil...|\n",
      "|1303047309341724675|hey fam\\nget your...|[hey, fam, get, y...|\n",
      "| 919915692375330816|the russian presi...|[the, russian, pr...|\n",
      "|          227343379|i hope john bolto...|[i, hope, john, b...|\n",
      "|1140306632049643520|this is the week ...|[this, is, the, w...|\n",
      "|1445114935340638216|leaving everythin...|[leaving, everyth...|\n",
      "|         2600442982|my heart is still...|[my, heart, is, s...|\n",
      "|          778597423|in just the past ...|[in, just, the, p...|\n",
      "|           65061050|valevolotim forma...|[valevolotim, for...|\n",
      "|         2310676628|want to protest i...|[want, to, protes...|\n",
      "|         1040987959|understand that i...|[understand, that...|\n",
      "|1496645898843086851|russians on the m...|[russians, on, th...|\n",
      "|1467809651622236162|russia to investi...|[russia, to, inve...|\n",
      "|1499408154643386380|ambzhengzeguang w...|[ambzhengzeguang,...|\n",
      "|           53309423|russia is fast tu...|[russia, is, fast...|\n",
      "|           89286004|this is putinapol...|[this, is, putina...|\n",
      "| 942680000251219968|if world is again...|[if, world, is, a...|\n",
      "|1499339533426601990|theeconomist meta...|[theeconomist, me...|\n",
      "|1376955641395359746|just imagine indi...|[just, imagine, i...|\n",
      "+-------------------+--------------------+--------------------+\n",
      "only showing top 20 rows\n",
      "\n"
     ]
    }
   ],
   "source": [
    "from pyspark.ml.feature import Tokenizer, StopWordsRemover\n",
    "from pyspark.sql.functions import trim,split,explode,col\n",
    "\n",
    "\n",
    "tokenizer = Tokenizer(inputCol='text', outputCol='words_token')\n",
    "spark_eng = spark_eng.withColumn(\"text\", trim(col(\"text\")))\n",
    "spark_eng = tokenizer.transform(spark_eng)\n",
    "spark_eng.show()"
   ]
  },
  {
   "cell_type": "code",
   "execution_count": 29,
   "metadata": {
    "colab": {
     "base_uri": "https://localhost:8080/"
    },
    "id": "xQMJO_3qPLAe",
    "outputId": "fa41c716-4460-404a-d7cb-6cef100a13ba"
   },
   "outputs": [
    {
     "name": "stdout",
     "output_type": "stream",
     "text": [
      "+---------------------------------------------------------------------------------------------------------------------------------------------------------------------------------------------------------------------------------------------------------------------------------------+\n",
      "|words_clean                                                                                                                                                                                                                                                                            |\n",
      "+---------------------------------------------------------------------------------------------------------------------------------------------------------------------------------------------------------------------------------------------------------------------------------------+\n",
      "|[wife, killed, husband, injured, ukraine, neonazis, httpstcop8pm1ndcaz]                                                                                                                                                                                                                |\n",
      "|[potus, stop, killing, children, close, sky, ukraine, exclude, russia, un, security, council, potus, eucopresident, vonderleyen, europarlen, rterdogan, stopputin, stoprussia, right]                                                                                                  |\n",
      "|[hey, fam, get, fire, kicks, moderntrendske, , 💢airforce, shadow, 💢size, 3640, 💢ksh, 3000offer, , 💢location, juja, 💢contact, 0703264421, 💢till, 919739, , delivery, countrywide, , worldwar3, nato, kyiv, 100daysofcode, wwiii, putin, ukraine, russia, fifa, httpstco6wx10brphh]|\n",
      "|[russian, president, spread, false, news, 475, times, putin, faces, 7125, years, prison, , slavaukraini, httpstcofpaofevac6]                                                                                                                                                           |\n",
      "|[hope, john, bolton, feels, shame, backing, madman, tp, helping, set, set, stage, putinwarcrimes, attack, ukraine, expressed, purpose, destruction, country, genocide, people, httpstconondhkmff7]                                                                                     |\n",
      "|[week, proved, dependent, criminal, like, putin, oil, bigger, threat, america, climate, change]                                                                                                                                                                                        |\n",
      "|[leaving, everything, behind, people, fleeing, conflict, ukraine, need, shelter, food, water, , support, , please, stop, war, , , , news, attack, england, russian, russia, dominic, easterneurope, today, war, putin, httpstco5rggl9hgee]                                             |\n",
      "|[heart, still, absolutely, broken, hurting, much, people, ukraine, going, right, please, check, image, attached, see, help, ukraine, sending, love, 🇺🇦💙💛🙏🤟⛑🌐💌, ukraine, helpukraine, prayforukraine, howtohelpukraine, httpstcom1f0ufqenk]                                     |\n",
      "|[past, week, since, russia, launched, invasion, dutch, gas, prices, doubled, newcastle, coal, surged, 85, brent, crude, oil, climbed, fifth, metals, markets, aluminum, roared, another, record, peak, touching, 3699, tonne]                                                          |\n",
      "|[valevolotim, formaiwork, hungry, men, paid, fight, mad, dictator, , anonymous, oprussia, ukraine, russia]                                                                                                                                                                             |\n",
      "|[want, protest, brussels, suggest, block, lukoil, gas, stations, start, ukraine, prevail]                                                                                                                                                                                              |\n",
      "|[understand, ⁦netflix⁩, choice, support, russia, ‘s, invasion, ukraine, , forced, walk, away, take, loss, 1mil, subscribers, httpstcokjpexvkna6]                                                                                                                                       |\n",
      "|[russians, move, near, mykolaiv, russia, ukraine, httpstcocxthwqzwur]                                                                                                                                                                                                                  |\n",
      "|[russia, investigate, death, indianstudent, kharkiv, envoy, , httpstcontsufanrls]                                                                                                                                                                                                      |\n",
      "|[ambzhengzeguang, china, support, russia, massmurdering, civilians, ukraine, putin, shelling, residential, areas, taking, women, children, hostage, chinese, values]                                                                                                                   |\n",
      "|[russia, fast, turning, pariah, state, unless, palace, coup, putin, replaced, soon, russian, people, going, suffer, long, time, , , ukrainerussianwar, russianukrainianwar, httpstcobcpkbmymxt]                                                                                        |\n",
      "|[putinapologist, bencorke’s, take, russian, invasion, ukraine…, feel, free, persuade, he’s, talking, backside……, httpstcobubihlhhn7]                                                                                                                                                   |\n",
      "|[world, russia, protecting, sovereignty, integrity, , wont, world, india, whenever, take, back, pok, , hum, kis, mooh, se, russia, ko, oppose, karey, , , hamein, pok, bhi, waise, hi, lena, hai, 🥺, russianukrainianwar, russiaukrainewar]                                           |\n",
      "|[theeconomist, meta, instagram, see, this…, too…, guess, zuckerberg’s, character, might, resemble, putin, narcissistic, …, anything, money, , power, …, social, responsibility, …, humanity…, loyalty, anyone, self…, greed, brought, us, moment]                                      |\n",
      "|[imagine, india, invading, nepal, , , russia, ukraine, closely, linked, culturally, religiously, historically, like, india, nepal, , , shameful, president, putins, administration, , russiaukrainewar, httpstcoc84q6cjwvu]                                                            |\n",
      "+---------------------------------------------------------------------------------------------------------------------------------------------------------------------------------------------------------------------------------------------------------------------------------------+\n",
      "only showing top 20 rows\n",
      "\n"
     ]
    }
   ],
   "source": [
    "remover = StopWordsRemover(inputCol='words_token', outputCol='words_clean')\n",
    "spark_eng = remover.transform(spark_eng).select(\"userid\",\"text\",'words_clean')\n",
    "spark_eng.select(\"words_clean\").show(truncate=False)\n"
   ]
  },
  {
   "cell_type": "code",
   "execution_count": 30,
   "metadata": {
    "colab": {
     "base_uri": "https://localhost:8080/"
    },
    "id": "-mEbwHbMPLN5",
    "outputId": "c16f66c7-edb3-40db-a56e-8f5f8f019fdc"
   },
   "outputs": [
    {
     "name": "stdout",
     "output_type": "stream",
     "text": [
      "+-------------------+--------------------+--------------------+\n",
      "|             userid|                text|         words_clean|\n",
      "+-------------------+--------------------+--------------------+\n",
      "|1345185051554836488|wife killed husba...|[wife, killed, hu...|\n",
      "|1459115124829077513|potus stop killin...|[potus, stop, kil...|\n",
      "|1303047309341724675|hey fam\\nget your...|[hey, fam, get, f...|\n",
      "| 919915692375330816|the russian presi...|[russian, preside...|\n",
      "|          227343379|i hope john bolto...|[hope, john, bolt...|\n",
      "|1140306632049643520|this is the week ...|[week, proved, de...|\n",
      "|1445114935340638216|leaving everythin...|[leaving, everyth...|\n",
      "|         2600442982|my heart is still...|[heart, still, ab...|\n",
      "|          778597423|in just the past ...|[past, week, sinc...|\n",
      "|           65061050|valevolotim forma...|[valevolotim, for...|\n",
      "+-------------------+--------------------+--------------------+\n",
      "only showing top 10 rows\n",
      "\n"
     ]
    }
   ],
   "source": [
    "from pyspark.sql.functions import expr\n",
    "\n",
    "spark_eng = spark_eng.withColumn(\"words_clean\", expr(\"filter(words_clean, elem -> elem != '')\"))\n",
    "spark_eng.show(10)"
   ]
  },
  {
   "cell_type": "code",
   "execution_count": 31,
   "metadata": {
    "colab": {
     "base_uri": "https://localhost:8080/"
    },
    "id": "dAyvzyf0PLQt",
    "outputId": "d8fb3a8b-b29e-4f00-cb48-6019c87c19d6"
   },
   "outputs": [
    {
     "name": "stdout",
     "output_type": "stream",
     "text": [
      "+-------------------+--------------------+--------------------+\n",
      "|             userid|                text|         words_clean|\n",
      "+-------------------+--------------------+--------------------+\n",
      "|1345185051554836488|wife killed husba...|[neonazis, wife, ...|\n",
      "|1459115124829077513|potus stop killin...|[europarlen, rter...|\n",
      "|1303047309341724675|hey fam\\nget your...|[moderntrendske, ...|\n",
      "| 919915692375330816|the russian presi...|[prison, faces, s...|\n",
      "|          227343379|i hope john bolto...|[purpose, backing...|\n",
      "|1140306632049643520|this is the week ...|[dependent, clima...|\n",
      "|1445114935340638216|leaving everythin...|[please, food, ru...|\n",
      "|         2600442982|my heart is still...|[still, hurting, ...|\n",
      "|          778597423|in just the past ...|[past, newcastle,...|\n",
      "|           65061050|valevolotim forma...|[men, mad, valevo...|\n",
      "+-------------------+--------------------+--------------------+\n",
      "only showing top 10 rows\n",
      "\n"
     ]
    }
   ],
   "source": [
    "from pyspark.sql.functions import udf\n",
    "from pyspark.sql.types import ArrayType,StringType\n",
    "\n",
    "get_uniques=udf(lambda x: list(set(x)), ArrayType(StringType()))\n",
    "\n",
    "spark_eng = spark_eng.withColumn(\"words_clean\", get_uniques(spark_eng.words_clean))\n",
    "spark_eng.show(10)"
   ]
  },
  {
   "cell_type": "code",
   "execution_count": 32,
   "metadata": {
    "colab": {
     "base_uri": "https://localhost:8080/"
    },
    "id": "6F0YFckk7VJJ",
    "outputId": "1800114f-d22d-4695-a223-d4eb962ecb26"
   },
   "outputs": [
    {
     "name": "stdout",
     "output_type": "stream",
     "text": [
      "+-------------------+-----+\n",
      "|             userid|count|\n",
      "+-------------------+-----+\n",
      "|           88196314|  617|\n",
      "|1221797851258163200|  528|\n",
      "|           31077930|  514|\n",
      "|1164907412630827008|  488|\n",
      "|1178811384387293187|  337|\n",
      "|1203552378382934016|  333|\n",
      "|          247619342|  323|\n",
      "|1456313808092372995|  302|\n",
      "|1490088025430315012|  299|\n",
      "|          306259657|  297|\n",
      "+-------------------+-----+\n",
      "only showing top 10 rows\n",
      "\n"
     ]
    }
   ],
   "source": [
    "num_baskets = spark_eng.groupBy(\"userid\").count()\n",
    "num_baskets.orderBy(\"count\",ascending=False).show(10)"
   ]
  },
  {
   "cell_type": "code",
   "execution_count": 33,
   "metadata": {
    "colab": {
     "base_uri": "https://localhost:8080/"
    },
    "id": "IZZY9W2c6fBW",
    "outputId": "bcecfc2e-67d9-41b3-86b2-79fcdf8c3093"
   },
   "outputs": [
    {
     "name": "stdout",
     "output_type": "stream",
     "text": [
      "+-------------------+-------------+\n",
      "|             userid|Numberofwords|\n",
      "+-------------------+-------------+\n",
      "|1221797851258163200|        11972|\n",
      "|           31077930|        10041|\n",
      "|1164907412630827008|         8384|\n",
      "|           88196314|         8062|\n",
      "|1203552378382934016|         7495|\n",
      "|1456313808092372995|         6102|\n",
      "|1178811384387293187|         5870|\n",
      "|1497351174487298052|         5297|\n",
      "|          783046681|         4511|\n",
      "|1259357602179235841|         4483|\n",
      "+-------------------+-------------+\n",
      "only showing top 10 rows\n",
      "\n"
     ]
    }
   ],
   "source": [
    "from pyspark.sql.functions import size, explode, col, split\n",
    "from pyspark.sql import functions as F\n",
    "\n",
    "num_items = spark_eng.select('*',size('words_clean').alias('Numberofwords'))\n",
    "num_items =num_items.groupby(\"userid\").agg(F.sum(\"Numberofwords\").alias('Numberofwords')).orderBy(\"Numberofwords\",ascending=False)\n",
    "num_items.show(10)"
   ]
  },
  {
   "cell_type": "code",
   "execution_count": 34,
   "metadata": {
    "colab": {
     "base_uri": "https://localhost:8080/"
    },
    "id": "rsranND06ko0",
    "outputId": "5d8ca507-376e-484f-ffda-513526bc6034"
   },
   "outputs": [
    {
     "data": {
      "text/plain": [
       "8407628"
      ]
     },
     "execution_count": 34,
     "metadata": {},
     "output_type": "execute_result"
    }
   ],
   "source": [
    "num_items.agg(F.sum(\"Numberofwords\")).collect()[0][0]\n"
   ]
  },
  {
   "cell_type": "code",
   "execution_count": 35,
   "metadata": {
    "colab": {
     "base_uri": "https://localhost:8080/"
    },
    "id": "8RQIpSrt7eQQ",
    "outputId": "23434a00-601c-4315-96ae-2e380182cd80"
   },
   "outputs": [
    {
     "name": "stdout",
     "output_type": "stream",
     "text": [
      "+--------------------+--------------------+\n",
      "|                text|         words_clean|\n",
      "+--------------------+--------------------+\n",
      "|wife killed husba...|[neonazis, wife, ...|\n",
      "|potus stop killin...|[europarlen, rter...|\n",
      "|hey fam\\nget your...|[moderntrendske, ...|\n",
      "|the russian presi...|[prison, faces, s...|\n",
      "|i hope john bolto...|[purpose, backing...|\n",
      "|this is the week ...|[dependent, clima...|\n",
      "|leaving everythin...|[please, food, ru...|\n",
      "|my heart is still...|[still, hurting, ...|\n",
      "|in just the past ...|[past, newcastle,...|\n",
      "|valevolotim forma...|[men, mad, valevo...|\n",
      "|want to protest i...|[start, stations,...|\n",
      "|understand that i...|[1mil, invasion, ...|\n",
      "|russians on the m...|[russians, russia...|\n",
      "|russia to investi...|[httpstcontsufanr...|\n",
      "|ambzhengzeguang w...|[hostage, childre...|\n",
      "|russia is fast tu...|[russianukrainian...|\n",
      "|this is putinapol...|[invasion, putina...|\n",
      "|if world is again...|[wont, protecting...|\n",
      "|theeconomist meta...|[greed, resemble,...|\n",
      "|just imagine indi...|[httpstcoc84q6cjw...|\n",
      "+--------------------+--------------------+\n",
      "only showing top 20 rows\n",
      "\n"
     ]
    }
   ],
   "source": [
    "spark_eng = spark_eng.drop(\"userid\")\n",
    "spark_eng.show()"
   ]
  },
  {
   "cell_type": "code",
   "execution_count": 26,
   "metadata": {
    "id": "epzG3kUs4TsC"
   },
   "outputs": [],
   "source": [
    "import time\n",
    "from tqdm import tqdm\n",
    "from pyspark.ml.fpm import FPGrowth"
   ]
  },
  {
   "cell_type": "code",
   "execution_count": 27,
   "metadata": {
    "colab": {
     "base_uri": "https://localhost:8080/"
    },
    "id": "1IIx7EhGz-nw",
    "outputId": "6dc113cd-1c70-46b4-c53d-6e3848c24767"
   },
   "outputs": [
    {
     "name": "stderr",
     "output_type": "stream",
     "text": [
      "100%|██████████| 5/5 [07:07<00:00, 85.54s/it]\n"
     ]
    }
   ],
   "source": [
    "np.random.seed(1)\n",
    "# Try different thresholds for minimum support \n",
    "th_res = [0.01,0.02,0.06,0.09,0.1]\n",
    "fpgrowth_time_res = {}\n",
    "\n",
    "for th in tqdm( th_res ):\n",
    "\n",
    "  #key = str(round(th*1000))\n",
    "\n",
    "  fpGrowth = FPGrowth(itemsCol=\"words_clean\", minSupport = th)\n",
    "\n",
    "  # compute time difference\n",
    "  start_time = time.time()\n",
    "  model = fpGrowth.fit(spark_eng)\n",
    "\n",
    "  fpgrowth_time_res[th] = time.time() - start_time\n"
   ]
  },
  {
   "cell_type": "code",
   "execution_count": 28,
   "metadata": {
    "colab": {
     "base_uri": "https://localhost:8080/"
    },
    "id": "wZufXUgEIXvt",
    "outputId": "47325fe7-2f20-46ee-f205-1b0803cf191b"
   },
   "outputs": [
    {
     "data": {
      "text/plain": [
       "{0.01: 96.22094345092773,\n",
       " 0.02: 83.52431321144104,\n",
       " 0.06: 81.16606903076172,\n",
       " 0.09: 81.67123103141785,\n",
       " 0.1: 85.01623153686523}"
      ]
     },
     "execution_count": 28,
     "metadata": {},
     "output_type": "execute_result"
    }
   ],
   "source": [
    "fpgrowth_time_res"
   ]
  },
  {
   "cell_type": "code",
   "execution_count": 30,
   "metadata": {
    "colab": {
     "base_uri": "https://localhost:8080/"
    },
    "id": "LJgsDBTtFuvF",
    "outputId": "520687ee-b3c3-421a-9903-bc6a36c6087b"
   },
   "outputs": [
    {
     "name": "stdout",
     "output_type": "stream",
     "text": [
      "+---------+---------------------+\n",
      "|Threshold|Time Elapsed(seconds)|\n",
      "+---------+---------------------+\n",
      "|     0.01|    96.22094345092773|\n",
      "|     0.02|    83.52431321144104|\n",
      "|     0.06|    81.16606903076172|\n",
      "|     0.09|    81.67123103141785|\n",
      "|      0.1|    85.01623153686523|\n",
      "+---------+---------------------+\n",
      "\n"
     ]
    }
   ],
   "source": [
    "from pyspark.sql.types import StructType,StructField\n",
    "\n",
    "fp_th_res = spark.createDataFrame(fpgrowth_time_res.items(), \n",
    "                      schema=StructType(fields=[\n",
    "                          StructField(\"Threshold\", StringType()), \n",
    "                          StructField(\"Time Elapsed(seconds)\", StringType())]))\n",
    "fp_th_res.show()"
   ]
  },
  {
   "cell_type": "code",
   "execution_count": 31,
   "metadata": {
    "colab": {
     "base_uri": "https://localhost:8080/"
    },
    "id": "Undg3dSebk35",
    "outputId": "d9ca3c84-b3ea-4059-a5fc-396b66cd3dfa"
   },
   "outputs": [
    {
     "name": "stderr",
     "output_type": "stream",
     "text": [
      "100%|██████████| 5/5 [03:17<00:00, 39.56s/it]\n"
     ]
    }
   ],
   "source": [
    "# Try different fraction of the dataframe\n",
    "size_sample = [0.1,0.3,0.5,0.7,0.9]\n",
    "fpgrowth_time_res_frac = {}\n",
    "for fr in tqdm(size_sample):\n",
    "    # extract a fraction of the dataframe\n",
    "    df_frac = spark_eng.sample(False, fr, seed = 1)\n",
    "    fpGrowth = FPGrowth(itemsCol = 'words_clean', minSupport = 0.02)\n",
    "    start_time = time.time()\n",
    "    model = fpGrowth.fit(df_frac)   \n",
    "    fpgrowth_time_res_frac[fr] = time.time() - start_time"
   ]
  },
  {
   "cell_type": "code",
   "execution_count": 61,
   "metadata": {
    "colab": {
     "base_uri": "https://localhost:8080/"
    },
    "id": "yfkdqMC6czU0",
    "outputId": "ebf366a2-a117-4cd3-d6ec-89b701b670bf"
   },
   "outputs": [
    {
     "name": "stdout",
     "output_type": "stream",
     "text": [
      "+--------+---------------------+\n",
      "|Fraction|Time Elapsed(seconds)|\n",
      "+--------+---------------------+\n",
      "|     0.1|   30.303032159805298|\n",
      "|     0.3|    31.29839015007019|\n",
      "|     0.5|    36.52366089820862|\n",
      "|     0.7|    45.83070635795593|\n",
      "|     0.9|   53.735288858413696|\n",
      "+--------+---------------------+\n",
      "\n"
     ]
    }
   ],
   "source": [
    "from pyspark.sql.types import StructType,StructField\n",
    "\n",
    "fp_frac_res = spark.createDataFrame(fpgrowth_time_res_frac.items(), \n",
    "                      schema=StructType(fields=[\n",
    "                          StructField(\"Fraction\", StringType()), \n",
    "                          StructField(\"Time Elapsed(seconds)\", StringType())]))\n",
    "\n",
    "\n",
    "fp_frac_res.show()"
   ]
  },
  {
   "cell_type": "code",
   "execution_count": 33,
   "metadata": {
    "colab": {
     "base_uri": "https://localhost:8080/"
    },
    "id": "6muueFWOMJym",
    "outputId": "1de93354-1841-4c34-b9fd-52e1346cac03"
   },
   "outputs": [
    {
     "name": "stderr",
     "output_type": "stream",
     "text": [
      "/usr/local/lib/python3.7/dist-packages/pyspark/sql/context.py:127: FutureWarning: Deprecated in 3.0.0. Use SparkSession.builder.getOrCreate() instead.\n",
      "  FutureWarning\n"
     ]
    }
   ],
   "source": [
    "fpGrowth = FPGrowth(itemsCol=\"words_clean\", minSupport = 0.02)\n",
    "model = fpGrowth.fit(spark_eng)\n",
    "association_rules = model.associationRules\n",
    "frequent_items = model.freqItemsets"
   ]
  },
  {
   "cell_type": "code",
   "execution_count": 34,
   "metadata": {
    "colab": {
     "base_uri": "https://localhost:8080/"
    },
    "id": "IknsIRCrSyv-",
    "outputId": "a22967b2-7007-4666-bd7a-f25ebe7a16e5"
   },
   "outputs": [
    {
     "name": "stdout",
     "output_type": "stream",
     "text": [
      "+------------------+------+\n",
      "|items             |freq  |\n",
      "+------------------+------+\n",
      "|[ukraine]         |297247|\n",
      "|[russia]          |161398|\n",
      "|[russia, ukraine] |104651|\n",
      "|[putin]           |103436|\n",
      "|[russian]         |84491 |\n",
      "|[war]             |67018 |\n",
      "|[putin, ukraine]  |56576 |\n",
      "|[russian, ukraine]|54312 |\n",
      "|[nato]            |46351 |\n",
      "|[people]          |42933 |\n",
      "|[war, ukraine]    |42487 |\n",
      "|[ukrainian]       |38610 |\n",
      "|[ukrainerussiawar]|37183 |\n",
      "|[amp]             |35778 |\n",
      "|[stop]            |35172 |\n",
      "+------------------+------+\n",
      "only showing top 15 rows\n",
      "\n"
     ]
    }
   ],
   "source": [
    "frequent_items.orderBy(\"freq\",ascending=False).show(15,truncate=False)"
   ]
  },
  {
   "cell_type": "code",
   "execution_count": 35,
   "metadata": {
    "colab": {
     "base_uri": "https://localhost:8080/"
    },
    "id": "2TjjsOZE7kt3",
    "outputId": "16cd2f6b-aca5-43f5-d459-08164314f97a"
   },
   "outputs": [
    {
     "data": {
      "text/plain": [
       "254"
      ]
     },
     "execution_count": 35,
     "metadata": {},
     "output_type": "execute_result"
    }
   ],
   "source": [
    "frequent_items.count()"
   ]
  },
  {
   "cell_type": "code",
   "execution_count": 36,
   "metadata": {
    "colab": {
     "base_uri": "https://localhost:8080/"
    },
    "id": "5Ko6kKp1eOx4",
    "outputId": "e3aade40-56c3-4d59-c136-f0c98b2e447b"
   },
   "outputs": [
    {
     "name": "stdout",
     "output_type": "stream",
     "text": [
      "+-------------------------------+----------+------------------+------------------+--------+\n",
      "|antecedent                     |consequent|confidence        |lift              |support |\n",
      "+-------------------------------+----------+------------------+------------------+--------+\n",
      "|[close, ukraine]               |[sky]     |0.8516299308081889|28.32158067203821 |0.023878|\n",
      "|[defend, humanitarian, weapons]|[needs]   |0.982999213836478 |30.545000740677335|0.020006|\n",
      "|[assistance, humanitarian]     |[weapons] |0.9384169703766003|27.059312871297585|0.020084|\n",
      "|[assistance, humanitarian]     |[needs]   |0.9421549387907672|29.27583552267625 |0.020164|\n",
      "|[assistance, humanitarian]     |[ukraine] |0.9595364919166433|1.6142453490921258|0.020536|\n",
      "|[assistance, humanitarian]     |[defend]  |0.9460798056256424|32.46447757963223 |0.020248|\n",
      "|[provide, stop]                |[putin]   |0.9353955652888037|4.5220523141608675|0.020502|\n",
      "|[provide, stop]                |[ukraine] |0.9428779998175016|1.5862204708092649|0.020666|\n",
      "|[provide, stop]                |[innocent]|0.9162332329592116|29.470351655169235|0.020082|\n",
      "|[stopputin]                    |[ukraine] |0.8016170838330303|1.3485747131362615|0.041442|\n",
      "|[potus, putin]                 |[ukraine] |0.8482391287065745|1.4270078105080506|0.02134 |\n",
      "|[defend]                       |[ukraine] |0.903653344320835 |1.5202321334832307|0.026318|\n",
      "|[potus, stopputin]             |[ukraine] |0.9169593577521324|1.542617077127766 |0.02193 |\n",
      "|[provide, putin]               |[weapons] |0.909932584269663 |26.23796379093607 |0.020246|\n",
      "|[provide, putin]               |[ukraine] |0.9168539325842696|1.5424397184881171|0.0204  |\n",
      "+-------------------------------+----------+------------------+------------------+--------+\n",
      "only showing top 15 rows\n",
      "\n"
     ]
    }
   ],
   "source": [
    "association_rules.show(15,truncate=False)"
   ]
  },
  {
   "cell_type": "code",
   "execution_count": 86,
   "metadata": {
    "id": "087cIXdnZ1pb"
   },
   "outputs": [],
   "source": [
    "fp_th_pd = fp_th_res.toPandas()\n",
    "\n",
    "fp_frac_pd = fp_frac_res.toPandas()\n"
   ]
  },
  {
   "cell_type": "code",
   "execution_count": 87,
   "metadata": {
    "id": "4Mv94giBb7XG"
   },
   "outputs": [],
   "source": [
    "fp_th_pd[\"Threshold\"] = pd.to_numeric(fp_th_pd[\"Threshold\"])\n",
    "fp_th_pd[\"Time Elapsed(seconds)\"] = pd.to_numeric(fp_th_pd[\"Time Elapsed(seconds)\"])\n"
   ]
  },
  {
   "cell_type": "code",
   "execution_count": 88,
   "metadata": {
    "colab": {
     "base_uri": "https://localhost:8080/",
     "height": 446
    },
    "id": "-TDTPASuaOI0",
    "outputId": "133a83df-f5db-46d6-9098-03ee8e8389e9"
   },
   "outputs": [
    {
     "data": {
      "text/plain": [
       "Text(0, 0.5, 'Seconds')"
      ]
     },
     "execution_count": 88,
     "metadata": {},
     "output_type": "execute_result"
    },
    {
     "data": {
      "image/png": "[encoded data removed]",
      "text/plain": [
       "<Figure size 720x432 with 1 Axes>"
      ]
     },
     "metadata": {
      "needs_background": "light"
     },
     "output_type": "display_data"
    }
   ],
   "source": [
    "%matplotlib inline\n",
    "import matplotlib.pyplot as plt\n",
    "plt.rcParams[\"figure.figsize\"] = [10,6]\n",
    "\n",
    "fig = plt.figure()\n",
    "plt.plot(fp_th_pd[\"Threshold\"],fp_th_pd[\"Time Elapsed(seconds)\"])\n",
    "fig.suptitle('Min. Support vs Time elapsed in seconds')\n",
    "plt.xlabel('Minimum Support')\n",
    "plt.ylabel('Seconds')\n"
   ]
  },
  {
   "cell_type": "code",
   "execution_count": 89,
   "metadata": {
    "id": "udW7pfwRaITH"
   },
   "outputs": [],
   "source": [
    "fp_frac_pd[\"Fraction\"] = pd.to_numeric(fp_frac_pd[\"Fraction\"])\n",
    "fp_frac_pd[\"Time Elapsed(seconds)\"] = pd.to_numeric(fp_frac_pd[\"Time Elapsed(seconds)\"])"
   ]
  },
  {
   "cell_type": "code",
   "execution_count": 90,
   "metadata": {
    "colab": {
     "base_uri": "https://localhost:8080/",
     "height": 446
    },
    "id": "riQVe7ntdUXD",
    "outputId": "c961c831-491c-4bd2-9328-8bc8f01e6e1f"
   },
   "outputs": [
    {
     "data": {
      "text/plain": [
       "Text(0, 0.5, 'Seconds')"
      ]
     },
     "execution_count": 90,
     "metadata": {},
     "output_type": "execute_result"
    },
    {
     "data": {
      "image/png": "[encoded data removed]",
      "text/plain": [
       "<Figure size 720x432 with 1 Axes>"
      ]
     },
     "metadata": {
      "needs_background": "light"
     },
     "output_type": "display_data"
    }
   ],
   "source": [
    "%matplotlib inline\n",
    "import matplotlib.pyplot as plt\n",
    "plt.rcParams[\"figure.figsize\"] = [10,6]\n",
    "\n",
    "fig = plt.figure()\n",
    "plt.plot(fp_frac_pd[\"Fraction\"],fp_frac_pd[\"Time Elapsed(seconds)\"])\n",
    "fig.suptitle('Dataset size vs Time elapsed in seconds')\n",
    "plt.xlabel('Fraction of dataset used')\n",
    "plt.ylabel('Seconds')\n"
   ]
  },
  {
   "cell_type": "code",
   "execution_count": 36,
   "metadata": {
    "id": "vrbUMFgmefLq"
   },
   "outputs": [],
   "source": [
    "words_basket = spark_eng.select('words_clean').collect()\n",
    "\n",
    "\n",
    "list_words_baskets = [ row[0] for row in words_basket]\n",
    "\n",
    "# Save the actor baskets list\n",
    "f = open('list_words_baskets.txt','w')\n",
    "for el in list_words_baskets:\n",
    "    f.write(str(el)+'\\n')\n",
    "f.close()"
   ]
  },
  {
   "cell_type": "code",
   "execution_count": 37,
   "metadata": {
    "id": "fCwuJuLpfLX3"
   },
   "outputs": [],
   "source": [
    "my_file = open(\"list_words_baskets.txt\", \"r\")\n",
    "list_loaded = my_file.readlines()\n",
    "list_words_baskets = [eval(el) for el in list_loaded]"
   ]
  },
  {
   "cell_type": "code",
   "execution_count": 38,
   "metadata": {
    "colab": {
     "base_uri": "https://localhost:8080/"
    },
    "id": "APdT23m01SQP",
    "outputId": "426b457c-f8ed-41d4-eb54-e71a759faf21"
   },
   "outputs": [
    {
     "data": {
      "text/plain": [
       "10000"
      ]
     },
     "execution_count": 38,
     "metadata": {},
     "output_type": "execute_result"
    }
   ],
   "source": [
    "import numpy as np\n",
    "np.random.seed(1)\n",
    "random_ind = np.random.choice(range(len(list_words_baskets)), 10000, replace=False)\n",
    "try_set = [list_words_baskets[i] for i in random_ind]\n",
    "len(try_set)"
   ]
  },
  {
   "cell_type": "code",
   "execution_count": 104,
   "metadata": {
    "id": "5iEnryIVf8oG"
   },
   "outputs": [],
   "source": [
    "#Free RAM\n",
    "del(spark)\n",
    "del(sc)\n",
    "del(num_items)\n",
    "del(num_baskets)\n",
    "del(spark_eng)\n",
    "del(data_collection)\n",
    "del(df_combined)\n",
    "del(SparkSession)\n",
    "del(SparkConf)\n",
    "del(SparkContext)\n",
    "del(FPGrowth)"
   ]
  },
  {
   "cell_type": "code",
   "execution_count": 39,
   "metadata": {
    "id": "th0MShwxgjPi"
   },
   "outputs": [],
   "source": [
    "from mlxtend.frequent_patterns import apriori\n",
    "from mlxtend.preprocessing import TransactionEncoder\n",
    "import plotly.express as px\n",
    "from tqdm import tqdm\n",
    "import pandas as pd\n",
    "import numpy as np\n",
    "import time "
   ]
  },
  {
   "cell_type": "code",
   "execution_count": 65,
   "metadata": {
    "id": "iAXhr460A3zb"
   },
   "outputs": [],
   "source": [
    "th_res = [0.01,0.02,0.06,0.09,0.1]\n",
    "apriori_time_res = {}\n",
    "for th in th_res:\n",
    "    te = TransactionEncoder()\n",
    "    oht_ary = te.fit(try_set).transform(try_set, sparse=True)\n",
    "    sparse_df = pd.DataFrame.sparse.from_spmatrix(oht_ary, columns=te.columns_)\n",
    "    start_time = time.time()\n",
    "    res= apriori(sparse_df, min_support=th, use_colnames=True)\n",
    "    apriori_time_res[th] = time.time() - start_time"
   ]
  },
  {
   "cell_type": "code",
   "execution_count": 66,
   "metadata": {
    "colab": {
     "base_uri": "https://localhost:8080/"
    },
    "id": "u8jJ2SlABeBC",
    "outputId": "32dab502-4272-4816-89a8-cb27fe445872"
   },
   "outputs": [
    {
     "data": {
      "text/plain": [
       "{0.01: 24.4316885471344,\n",
       " 0.02: 13.68343448638916,\n",
       " 0.06: 15.196359157562256,\n",
       " 0.09: 13.404382944107056,\n",
       " 0.1: 12.053977251052856}"
      ]
     },
     "execution_count": 66,
     "metadata": {},
     "output_type": "execute_result"
    }
   ],
   "source": [
    "apriori_time_res"
   ]
  },
  {
   "cell_type": "code",
   "execution_count": 67,
   "metadata": {
    "colab": {
     "base_uri": "https://localhost:8080/",
     "height": 206
    },
    "id": "K4NFwKJF4fG6",
    "outputId": "b11f8b6c-1a39-4fff-f768-e01f2d553df2"
   },
   "outputs": [
    {
     "data": {
      "text/html": [
       "\n",
       "  <div id=\"df-cdcea278-bbdf-420a-b860-3675c4870201\">\n",
       "    <div class=\"colab-df-container\">\n",
       "      <div>\n",
       "<style scoped>\n",
       "    .dataframe tbody tr th:only-of-type {\n",
       "        vertical-align: middle;\n",
       "    }\n",
       "\n",
       "    .dataframe tbody tr th {\n",
       "        vertical-align: top;\n",
       "    }\n",
       "\n",
       "    .dataframe thead th {\n",
       "        text-align: right;\n",
       "    }\n",
       "</style>\n",
       "<table border=\"1\" class=\"dataframe\">\n",
       "  <thead>\n",
       "    <tr style=\"text-align: right;\">\n",
       "      <th></th>\n",
       "      <th>Threshold</th>\n",
       "      <th>Time Elapsed</th>\n",
       "    </tr>\n",
       "  </thead>\n",
       "  <tbody>\n",
       "    <tr>\n",
       "      <th>0</th>\n",
       "      <td>0.01</td>\n",
       "      <td>24.431689</td>\n",
       "    </tr>\n",
       "    <tr>\n",
       "      <th>1</th>\n",
       "      <td>0.02</td>\n",
       "      <td>13.683434</td>\n",
       "    </tr>\n",
       "    <tr>\n",
       "      <th>2</th>\n",
       "      <td>0.06</td>\n",
       "      <td>15.196359</td>\n",
       "    </tr>\n",
       "    <tr>\n",
       "      <th>3</th>\n",
       "      <td>0.09</td>\n",
       "      <td>13.404383</td>\n",
       "    </tr>\n",
       "    <tr>\n",
       "      <th>4</th>\n",
       "      <td>0.10</td>\n",
       "      <td>12.053977</td>\n",
       "    </tr>\n",
       "  </tbody>\n",
       "</table>\n",
       "</div>\n",
       "      <button class=\"colab-df-convert\" onclick=\"convertToInteractive('df-cdcea278-bbdf-420a-b860-3675c4870201')\"\n",
       "              title=\"Convert this dataframe to an interactive table.\"\n",
       "              style=\"display:none;\">\n",
       "        \n",
       "  <svg xmlns=\"http://www.w3.org/2000/svg\" height=\"24px\"viewBox=\"0 0 24 24\"\n",
       "       width=\"24px\">\n",
       "    <path d=\"M0 0h24v24H0V0z\" fill=\"none\"/>\n",
       "    <path d=\"M18.56 5.44l.94 2.06.94-2.06 2.06-.94-2.06-.94-.94-2.06-.94 2.06-2.06.94zm-11 1L8.5 8.5l.94-2.06 2.06-.94-2.06-.94L8.5 2.5l-.94 2.06-2.06.94zm10 10l.94 2.06.94-2.06 2.06-.94-2.06-.94-.94-2.06-.94 2.06-2.06.94z\"/><path d=\"M17.41 7.96l-1.37-1.37c-.4-.4-.92-.59-1.43-.59-.52 0-1.04.2-1.43.59L10.3 9.45l-7.72 7.72c-.78.78-.78 2.05 0 2.83L4 21.41c.39.39.9.59 1.41.59.51 0 1.02-.2 1.41-.59l7.78-7.78 2.81-2.81c.8-.78.8-2.07 0-2.86zM5.41 20L4 18.59l7.72-7.72 1.47 1.35L5.41 20z\"/>\n",
       "  </svg>\n",
       "      </button>\n",
       "      \n",
       "  <style>\n",
       "    .colab-df-container {\n",
       "      display:flex;\n",
       "      flex-wrap:wrap;\n",
       "      gap: 12px;\n",
       "    }\n",
       "\n",
       "    .colab-df-convert {\n",
       "      background-color: #E8F0FE;\n",
       "      border: none;\n",
       "      border-radius: 50%;\n",
       "      cursor: pointer;\n",
       "      display: none;\n",
       "      fill: #1967D2;\n",
       "      height: 32px;\n",
       "      padding: 0 0 0 0;\n",
       "      width: 32px;\n",
       "    }\n",
       "\n",
       "    .colab-df-convert:hover {\n",
       "      background-color: #E2EBFA;\n",
       "      box-shadow: 0px 1px 2px rgba(60, 64, 67, 0.3), 0px 1px 3px 1px rgba(60, 64, 67, 0.15);\n",
       "      fill: #174EA6;\n",
       "    }\n",
       "\n",
       "    [theme=dark] .colab-df-convert {\n",
       "      background-color: #3B4455;\n",
       "      fill: #D2E3FC;\n",
       "    }\n",
       "\n",
       "    [theme=dark] .colab-df-convert:hover {\n",
       "      background-color: #434B5C;\n",
       "      box-shadow: 0px 1px 3px 1px rgba(0, 0, 0, 0.15);\n",
       "      filter: drop-shadow(0px 1px 2px rgba(0, 0, 0, 0.3));\n",
       "      fill: #FFFFFF;\n",
       "    }\n",
       "  </style>\n",
       "\n",
       "      <script>\n",
       "        const buttonEl =\n",
       "          document.querySelector('#df-cdcea278-bbdf-420a-b860-3675c4870201 button.colab-df-convert');\n",
       "        buttonEl.style.display =\n",
       "          google.colab.kernel.accessAllowed ? 'block' : 'none';\n",
       "\n",
       "        async function convertToInteractive(key) {\n",
       "          const element = document.querySelector('#df-cdcea278-bbdf-420a-b860-3675c4870201');\n",
       "          const dataTable =\n",
       "            await google.colab.kernel.invokeFunction('convertToInteractive',\n",
       "                                                     [key], {});\n",
       "          if (!dataTable) return;\n",
       "\n",
       "          const docLinkHtml = 'Like what you see? Visit the ' +\n",
       "            '<a target=\"_blank\" href=https://colab.research.google.com/notebooks/data_table.ipynb>data table notebook</a>'\n",
       "            + ' to learn more about interactive tables.';\n",
       "          element.innerHTML = '';\n",
       "          dataTable['output_type'] = 'display_data';\n",
       "          await google.colab.output.renderOutput(dataTable, element);\n",
       "          const docLink = document.createElement('div');\n",
       "          docLink.innerHTML = docLinkHtml;\n",
       "          element.appendChild(docLink);\n",
       "        }\n",
       "      </script>\n",
       "    </div>\n",
       "  </div>\n",
       "  "
      ],
      "text/plain": [
       "   Threshold  Time Elapsed\n",
       "0       0.01     24.431689\n",
       "1       0.02     13.683434\n",
       "2       0.06     15.196359\n",
       "3       0.09     13.404383\n",
       "4       0.10     12.053977"
      ]
     },
     "execution_count": 67,
     "metadata": {},
     "output_type": "execute_result"
    }
   ],
   "source": [
    "ap_th_res = pd.DataFrame.from_dict(apriori_time_res, orient=\"index\").reset_index()\n",
    "\n",
    "new_column_list= [\"Threshold\",\"Time Elapsed\"]\n",
    "\n",
    "ap_th_res = ap_th_res.set_axis(new_column_list, axis=1)\n",
    "ap_th_res"
   ]
  },
  {
   "cell_type": "code",
   "execution_count": 82,
   "metadata": {
    "id": "Af75BnVK6hyu"
   },
   "outputs": [],
   "source": [
    "te = TransactionEncoder()\n",
    "oht_ary = te.fit(try_set).transform(try_set, sparse=True)\n",
    "sparse_df = pd.DataFrame.sparse.from_spmatrix(oht_ary, columns=te.columns_)\n",
    "res= apriori(sparse_df, min_support=0.02, use_colnames=True)\n"
   ]
  },
  {
   "cell_type": "code",
   "execution_count": 83,
   "metadata": {
    "colab": {
     "base_uri": "https://localhost:8080/"
    },
    "id": "De5r3HR56jQm",
    "outputId": "a65a8cad-90a1-4fc9-c3f2-13880649efb8"
   },
   "outputs": [
    {
     "data": {
      "text/plain": [
       "321"
      ]
     },
     "execution_count": 83,
     "metadata": {},
     "output_type": "execute_result"
    }
   ],
   "source": [
    "len(res)"
   ]
  },
  {
   "cell_type": "code",
   "execution_count": 73,
   "metadata": {
    "colab": {
     "base_uri": "https://localhost:8080/",
     "height": 363
    },
    "id": "fy-wcCms3Oi-",
    "outputId": "bcf4e391-2964-40b9-8d26-03b50afb0a61"
   },
   "outputs": [
    {
     "data": {
      "text/html": [
       "\n",
       "  <div id=\"df-8a350bbd-c197-47a9-8f6b-9c28d641ca11\">\n",
       "    <div class=\"colab-df-container\">\n",
       "      <div>\n",
       "<style scoped>\n",
       "    .dataframe tbody tr th:only-of-type {\n",
       "        vertical-align: middle;\n",
       "    }\n",
       "\n",
       "    .dataframe tbody tr th {\n",
       "        vertical-align: top;\n",
       "    }\n",
       "\n",
       "    .dataframe thead th {\n",
       "        text-align: right;\n",
       "    }\n",
       "</style>\n",
       "<table border=\"1\" class=\"dataframe\">\n",
       "  <thead>\n",
       "    <tr style=\"text-align: right;\">\n",
       "      <th></th>\n",
       "      <th>support</th>\n",
       "      <th>itemsets</th>\n",
       "    </tr>\n",
       "  </thead>\n",
       "  <tbody>\n",
       "    <tr>\n",
       "      <th>16</th>\n",
       "      <td>0.5980</td>\n",
       "      <td>(ukraine)</td>\n",
       "    </tr>\n",
       "    <tr>\n",
       "      <th>7</th>\n",
       "      <td>0.3225</td>\n",
       "      <td>(russia)</td>\n",
       "    </tr>\n",
       "    <tr>\n",
       "      <th>32</th>\n",
       "      <td>0.2124</td>\n",
       "      <td>(russia, ukraine)</td>\n",
       "    </tr>\n",
       "    <tr>\n",
       "      <th>6</th>\n",
       "      <td>0.2035</td>\n",
       "      <td>(putin)</td>\n",
       "    </tr>\n",
       "    <tr>\n",
       "      <th>8</th>\n",
       "      <td>0.1681</td>\n",
       "      <td>(russian)</td>\n",
       "    </tr>\n",
       "    <tr>\n",
       "      <th>23</th>\n",
       "      <td>0.1307</td>\n",
       "      <td>(war)</td>\n",
       "    </tr>\n",
       "    <tr>\n",
       "      <th>30</th>\n",
       "      <td>0.1099</td>\n",
       "      <td>(putin, ukraine)</td>\n",
       "    </tr>\n",
       "    <tr>\n",
       "      <th>34</th>\n",
       "      <td>0.1065</td>\n",
       "      <td>(russian, ukraine)</td>\n",
       "    </tr>\n",
       "    <tr>\n",
       "      <th>3</th>\n",
       "      <td>0.0894</td>\n",
       "      <td>(nato)</td>\n",
       "    </tr>\n",
       "    <tr>\n",
       "      <th>4</th>\n",
       "      <td>0.0878</td>\n",
       "      <td>(people)</td>\n",
       "    </tr>\n",
       "  </tbody>\n",
       "</table>\n",
       "</div>\n",
       "      <button class=\"colab-df-convert\" onclick=\"convertToInteractive('df-8a350bbd-c197-47a9-8f6b-9c28d641ca11')\"\n",
       "              title=\"Convert this dataframe to an interactive table.\"\n",
       "              style=\"display:none;\">\n",
       "        \n",
       "  <svg xmlns=\"http://www.w3.org/2000/svg\" height=\"24px\"viewBox=\"0 0 24 24\"\n",
       "       width=\"24px\">\n",
       "    <path d=\"M0 0h24v24H0V0z\" fill=\"none\"/>\n",
       "    <path d=\"M18.56 5.44l.94 2.06.94-2.06 2.06-.94-2.06-.94-.94-2.06-.94 2.06-2.06.94zm-11 1L8.5 8.5l.94-2.06 2.06-.94-2.06-.94L8.5 2.5l-.94 2.06-2.06.94zm10 10l.94 2.06.94-2.06 2.06-.94-2.06-.94-.94-2.06-.94 2.06-2.06.94z\"/><path d=\"M17.41 7.96l-1.37-1.37c-.4-.4-.92-.59-1.43-.59-.52 0-1.04.2-1.43.59L10.3 9.45l-7.72 7.72c-.78.78-.78 2.05 0 2.83L4 21.41c.39.39.9.59 1.41.59.51 0 1.02-.2 1.41-.59l7.78-7.78 2.81-2.81c.8-.78.8-2.07 0-2.86zM5.41 20L4 18.59l7.72-7.72 1.47 1.35L5.41 20z\"/>\n",
       "  </svg>\n",
       "      </button>\n",
       "      \n",
       "  <style>\n",
       "    .colab-df-container {\n",
       "      display:flex;\n",
       "      flex-wrap:wrap;\n",
       "      gap: 12px;\n",
       "    }\n",
       "\n",
       "    .colab-df-convert {\n",
       "      background-color: #E8F0FE;\n",
       "      border: none;\n",
       "      border-radius: 50%;\n",
       "      cursor: pointer;\n",
       "      display: none;\n",
       "      fill: #1967D2;\n",
       "      height: 32px;\n",
       "      padding: 0 0 0 0;\n",
       "      width: 32px;\n",
       "    }\n",
       "\n",
       "    .colab-df-convert:hover {\n",
       "      background-color: #E2EBFA;\n",
       "      box-shadow: 0px 1px 2px rgba(60, 64, 67, 0.3), 0px 1px 3px 1px rgba(60, 64, 67, 0.15);\n",
       "      fill: #174EA6;\n",
       "    }\n",
       "\n",
       "    [theme=dark] .colab-df-convert {\n",
       "      background-color: #3B4455;\n",
       "      fill: #D2E3FC;\n",
       "    }\n",
       "\n",
       "    [theme=dark] .colab-df-convert:hover {\n",
       "      background-color: #434B5C;\n",
       "      box-shadow: 0px 1px 3px 1px rgba(0, 0, 0, 0.15);\n",
       "      filter: drop-shadow(0px 1px 2px rgba(0, 0, 0, 0.3));\n",
       "      fill: #FFFFFF;\n",
       "    }\n",
       "  </style>\n",
       "\n",
       "      <script>\n",
       "        const buttonEl =\n",
       "          document.querySelector('#df-8a350bbd-c197-47a9-8f6b-9c28d641ca11 button.colab-df-convert');\n",
       "        buttonEl.style.display =\n",
       "          google.colab.kernel.accessAllowed ? 'block' : 'none';\n",
       "\n",
       "        async function convertToInteractive(key) {\n",
       "          const element = document.querySelector('#df-8a350bbd-c197-47a9-8f6b-9c28d641ca11');\n",
       "          const dataTable =\n",
       "            await google.colab.kernel.invokeFunction('convertToInteractive',\n",
       "                                                     [key], {});\n",
       "          if (!dataTable) return;\n",
       "\n",
       "          const docLinkHtml = 'Like what you see? Visit the ' +\n",
       "            '<a target=\"_blank\" href=https://colab.research.google.com/notebooks/data_table.ipynb>data table notebook</a>'\n",
       "            + ' to learn more about interactive tables.';\n",
       "          element.innerHTML = '';\n",
       "          dataTable['output_type'] = 'display_data';\n",
       "          await google.colab.output.renderOutput(dataTable, element);\n",
       "          const docLink = document.createElement('div');\n",
       "          docLink.innerHTML = docLinkHtml;\n",
       "          element.appendChild(docLink);\n",
       "        }\n",
       "      </script>\n",
       "    </div>\n",
       "  </div>\n",
       "  "
      ],
      "text/plain": [
       "    support            itemsets\n",
       "16   0.5980           (ukraine)\n",
       "7    0.3225            (russia)\n",
       "32   0.2124   (russia, ukraine)\n",
       "6    0.2035             (putin)\n",
       "8    0.1681           (russian)\n",
       "23   0.1307               (war)\n",
       "30   0.1099    (putin, ukraine)\n",
       "34   0.1065  (russian, ukraine)\n",
       "3    0.0894              (nato)\n",
       "4    0.0878            (people)"
      ]
     },
     "execution_count": 73,
     "metadata": {},
     "output_type": "execute_result"
    }
   ],
   "source": [
    "res.sort_values(by=['support'],ascending=False).head(10)"
   ]
  },
  {
   "cell_type": "code",
   "execution_count": 75,
   "metadata": {
    "colab": {
     "base_uri": "https://localhost:8080/"
    },
    "id": "CwmFx850CD-4",
    "outputId": "830a38d7-b743-4919-931e-cc4f8dd5b3ad"
   },
   "outputs": [
    {
     "name": "stderr",
     "output_type": "stream",
     "text": [
      "100%|██████████| 5/5 [01:34<00:00, 18.96s/it]\n"
     ]
    }
   ],
   "source": [
    "fraction_sample = [0.1,0.3,0.5,0.7,0.9]\n",
    "apriori_time_res_frac = {}\n",
    "for fr in tqdm(fraction_sample):\n",
    "    list_frac = try_set[0:round(fr*len(try_set))]\n",
    "    te = TransactionEncoder() \n",
    "    oht_ary = te.fit(try_set).transform(try_set, sparse=True)\n",
    "    sparse_df = pd.DataFrame.sparse.from_spmatrix(oht_ary, columns=te.columns_)\n",
    "    start_time = time.time()\n",
    "    res= apriori(sparse_df, min_support=0.04, use_colnames=True)\n",
    "    apriori_time_res_frac[fr] = time.time() - start_time"
   ]
  },
  {
   "cell_type": "code",
   "execution_count": 77,
   "metadata": {
    "colab": {
     "base_uri": "https://localhost:8080/"
    },
    "id": "x4kNf10NCtg1",
    "outputId": "ece25471-1032-44de-9162-c49fc1bfb0aa"
   },
   "outputs": [
    {
     "data": {
      "text/plain": [
       "{0.1: 17.11443591117859,\n",
       " 0.3: 16.745912075042725,\n",
       " 0.5: 16.8118577003479,\n",
       " 0.7: 16.4901442527771,\n",
       " 0.9: 17.582629680633545}"
      ]
     },
     "execution_count": 77,
     "metadata": {},
     "output_type": "execute_result"
    }
   ],
   "source": [
    "apriori_time_res_frac"
   ]
  },
  {
   "cell_type": "code",
   "execution_count": 78,
   "metadata": {
    "colab": {
     "base_uri": "https://localhost:8080/",
     "height": 206
    },
    "id": "9vhSd9auDt79",
    "outputId": "7c246613-1808-4cc4-96ee-9641c094ab84"
   },
   "outputs": [
    {
     "data": {
      "text/html": [
       "\n",
       "  <div id=\"df-00139e4f-ddd4-467f-8782-c443d4bf1e1b\">\n",
       "    <div class=\"colab-df-container\">\n",
       "      <div>\n",
       "<style scoped>\n",
       "    .dataframe tbody tr th:only-of-type {\n",
       "        vertical-align: middle;\n",
       "    }\n",
       "\n",
       "    .dataframe tbody tr th {\n",
       "        vertical-align: top;\n",
       "    }\n",
       "\n",
       "    .dataframe thead th {\n",
       "        text-align: right;\n",
       "    }\n",
       "</style>\n",
       "<table border=\"1\" class=\"dataframe\">\n",
       "  <thead>\n",
       "    <tr style=\"text-align: right;\">\n",
       "      <th></th>\n",
       "      <th>Fraction</th>\n",
       "      <th>Time Elapsed</th>\n",
       "    </tr>\n",
       "  </thead>\n",
       "  <tbody>\n",
       "    <tr>\n",
       "      <th>0</th>\n",
       "      <td>0.1</td>\n",
       "      <td>17.114436</td>\n",
       "    </tr>\n",
       "    <tr>\n",
       "      <th>1</th>\n",
       "      <td>0.3</td>\n",
       "      <td>16.745912</td>\n",
       "    </tr>\n",
       "    <tr>\n",
       "      <th>2</th>\n",
       "      <td>0.5</td>\n",
       "      <td>16.811858</td>\n",
       "    </tr>\n",
       "    <tr>\n",
       "      <th>3</th>\n",
       "      <td>0.7</td>\n",
       "      <td>16.490144</td>\n",
       "    </tr>\n",
       "    <tr>\n",
       "      <th>4</th>\n",
       "      <td>0.9</td>\n",
       "      <td>17.582630</td>\n",
       "    </tr>\n",
       "  </tbody>\n",
       "</table>\n",
       "</div>\n",
       "      <button class=\"colab-df-convert\" onclick=\"convertToInteractive('df-00139e4f-ddd4-467f-8782-c443d4bf1e1b')\"\n",
       "              title=\"Convert this dataframe to an interactive table.\"\n",
       "              style=\"display:none;\">\n",
       "        \n",
       "  <svg xmlns=\"http://www.w3.org/2000/svg\" height=\"24px\"viewBox=\"0 0 24 24\"\n",
       "       width=\"24px\">\n",
       "    <path d=\"M0 0h24v24H0V0z\" fill=\"none\"/>\n",
       "    <path d=\"M18.56 5.44l.94 2.06.94-2.06 2.06-.94-2.06-.94-.94-2.06-.94 2.06-2.06.94zm-11 1L8.5 8.5l.94-2.06 2.06-.94-2.06-.94L8.5 2.5l-.94 2.06-2.06.94zm10 10l.94 2.06.94-2.06 2.06-.94-2.06-.94-.94-2.06-.94 2.06-2.06.94z\"/><path d=\"M17.41 7.96l-1.37-1.37c-.4-.4-.92-.59-1.43-.59-.52 0-1.04.2-1.43.59L10.3 9.45l-7.72 7.72c-.78.78-.78 2.05 0 2.83L4 21.41c.39.39.9.59 1.41.59.51 0 1.02-.2 1.41-.59l7.78-7.78 2.81-2.81c.8-.78.8-2.07 0-2.86zM5.41 20L4 18.59l7.72-7.72 1.47 1.35L5.41 20z\"/>\n",
       "  </svg>\n",
       "      </button>\n",
       "      \n",
       "  <style>\n",
       "    .colab-df-container {\n",
       "      display:flex;\n",
       "      flex-wrap:wrap;\n",
       "      gap: 12px;\n",
       "    }\n",
       "\n",
       "    .colab-df-convert {\n",
       "      background-color: #E8F0FE;\n",
       "      border: none;\n",
       "      border-radius: 50%;\n",
       "      cursor: pointer;\n",
       "      display: none;\n",
       "      fill: #1967D2;\n",
       "      height: 32px;\n",
       "      padding: 0 0 0 0;\n",
       "      width: 32px;\n",
       "    }\n",
       "\n",
       "    .colab-df-convert:hover {\n",
       "      background-color: #E2EBFA;\n",
       "      box-shadow: 0px 1px 2px rgba(60, 64, 67, 0.3), 0px 1px 3px 1px rgba(60, 64, 67, 0.15);\n",
       "      fill: #174EA6;\n",
       "    }\n",
       "\n",
       "    [theme=dark] .colab-df-convert {\n",
       "      background-color: #3B4455;\n",
       "      fill: #D2E3FC;\n",
       "    }\n",
       "\n",
       "    [theme=dark] .colab-df-convert:hover {\n",
       "      background-color: #434B5C;\n",
       "      box-shadow: 0px 1px 3px 1px rgba(0, 0, 0, 0.15);\n",
       "      filter: drop-shadow(0px 1px 2px rgba(0, 0, 0, 0.3));\n",
       "      fill: #FFFFFF;\n",
       "    }\n",
       "  </style>\n",
       "\n",
       "      <script>\n",
       "        const buttonEl =\n",
       "          document.querySelector('#df-00139e4f-ddd4-467f-8782-c443d4bf1e1b button.colab-df-convert');\n",
       "        buttonEl.style.display =\n",
       "          google.colab.kernel.accessAllowed ? 'block' : 'none';\n",
       "\n",
       "        async function convertToInteractive(key) {\n",
       "          const element = document.querySelector('#df-00139e4f-ddd4-467f-8782-c443d4bf1e1b');\n",
       "          const dataTable =\n",
       "            await google.colab.kernel.invokeFunction('convertToInteractive',\n",
       "                                                     [key], {});\n",
       "          if (!dataTable) return;\n",
       "\n",
       "          const docLinkHtml = 'Like what you see? Visit the ' +\n",
       "            '<a target=\"_blank\" href=https://colab.research.google.com/notebooks/data_table.ipynb>data table notebook</a>'\n",
       "            + ' to learn more about interactive tables.';\n",
       "          element.innerHTML = '';\n",
       "          dataTable['output_type'] = 'display_data';\n",
       "          await google.colab.output.renderOutput(dataTable, element);\n",
       "          const docLink = document.createElement('div');\n",
       "          docLink.innerHTML = docLinkHtml;\n",
       "          element.appendChild(docLink);\n",
       "        }\n",
       "      </script>\n",
       "    </div>\n",
       "  </div>\n",
       "  "
      ],
      "text/plain": [
       "   Fraction  Time Elapsed\n",
       "0       0.1     17.114436\n",
       "1       0.3     16.745912\n",
       "2       0.5     16.811858\n",
       "3       0.7     16.490144\n",
       "4       0.9     17.582630"
      ]
     },
     "execution_count": 78,
     "metadata": {},
     "output_type": "execute_result"
    }
   ],
   "source": [
    "apriori_time_res_frac = pd.DataFrame.from_dict(apriori_time_res_frac, orient=\"index\").reset_index()\n",
    "\n",
    "new_column_list= [\"Fraction\",\"Time Elapsed\"]\n",
    "\n",
    "apriori_time_res_frac = apriori_time_res_frac.set_axis(new_column_list, axis=1)\n",
    "apriori_time_res_frac"
   ]
  },
  {
   "cell_type": "code",
   "execution_count": 80,
   "metadata": {
    "colab": {
     "base_uri": "https://localhost:8080/",
     "height": 448
    },
    "id": "qyHLJljr7C6P",
    "outputId": "643bf770-8211-477c-9bec-37680c0f6566"
   },
   "outputs": [
    {
     "data": {
      "text/plain": [
       "Text(0, 0.5, 'Seconds')"
      ]
     },
     "execution_count": 80,
     "metadata": {},
     "output_type": "execute_result"
    },
    {
     "data": {
      "image/png": "[encoded data removed]",
      "text/plain": [
       "<Figure size 720x432 with 1 Axes>"
      ]
     },
     "metadata": {
      "needs_background": "light"
     },
     "output_type": "display_data"
    }
   ],
   "source": [
    "%matplotlib inline\n",
    "import matplotlib.pyplot as plt\n",
    "plt.rcParams[\"figure.figsize\"] = [10,6]\n",
    "\n",
    "fig = plt.figure()\n",
    "plt.plot(ap_th_res[\"Threshold\"],ap_th_res[\"Time Elapsed\"])\n",
    "fig.suptitle('Min. Support vs Time elapsed in seconds')\n",
    "plt.xlabel('Minimum Support')\n",
    "plt.ylabel('Seconds')\n"
   ]
  },
  {
   "cell_type": "code",
   "execution_count": 81,
   "metadata": {
    "colab": {
     "base_uri": "https://localhost:8080/",
     "height": 448
    },
    "id": "5KBxoypR8IPr",
    "outputId": "fdf30376-25bc-4dea-b8fb-8c37b2756aba"
   },
   "outputs": [
    {
     "data": {
      "text/plain": [
       "Text(0, 0.5, 'Seconds')"
      ]
     },
     "execution_count": 81,
     "metadata": {},
     "output_type": "execute_result"
    },
    {
     "data": {
      "image/png": "[encoded data removed]",
      "text/plain": [
       "<Figure size 720x432 with 1 Axes>"
      ]
     },
     "metadata": {
      "needs_background": "light"
     },
     "output_type": "display_data"
    }
   ],
   "source": [
    "%matplotlib inline\n",
    "import matplotlib.pyplot as plt\n",
    "plt.rcParams[\"figure.figsize\"] = [10,6]\n",
    "\n",
    "fig = plt.figure()\n",
    "plt.plot(apriori_time_res_frac[\"Fraction\"],apriori_time_res_frac[\"Time Elapsed\"])\n",
    "fig.suptitle('Dataset size vs Time elapsed in seconds')\n",
    "plt.xlabel('Fraction of dataset used')\n",
    "plt.ylabel('Seconds')\n"
   ]
  }
 ],
 "metadata": {
  "colab": {
   "collapsed_sections": [],
   "name": "project_final.ipynb",
   "provenance": []
  },
  "kernelspec": {
   "display_name": "Python 3",
   "language": "python",
   "name": "python3"
  },
  "language_info": {
   "codemirror_mode": {
    "name": "ipython",
    "version": 3
   },
   "file_extension": ".py",
   "mimetype": "text/x-python",
   "name": "python",
   "nbconvert_exporter": "python",
   "pygments_lexer": "ipython3",
   "version": "3.8.5"
  }
 },
 "nbformat": 4,
 "nbformat_minor": 1
}
